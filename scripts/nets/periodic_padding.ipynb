{
 "cells": [
  {
   "cell_type": "markdown",
   "metadata": {},
   "source": [
    "# Periodic padding in tensorflow"
   ]
  },
  {
   "cell_type": "code",
   "execution_count": 1,
   "metadata": {},
   "outputs": [],
   "source": [
    "import numpy as np\n",
    "import tensorflow as tf\n",
    "tf.enable_eager_execution()\n",
    "from tensorflow import keras\n",
    "import matplotlib.pyplot as plt"
   ]
  },
  {
   "cell_type": "code",
   "execution_count": 2,
   "metadata": {},
   "outputs": [],
   "source": [
    "%matplotlib notebook"
   ]
  },
  {
   "cell_type": "markdown",
   "metadata": {},
   "source": [
    "We're interested in implementing a convolutional neural net which acts on periodic data.\n",
    "Unfortunately, periodic padding doesn't seem to be natively available in tensorflow or pytorch.\n",
    "This notebook will explore how to produce periodically-padded tensorflow convolutions with neutral, up, and down striding."
   ]
  },
  {
   "cell_type": "markdown",
   "metadata": {},
   "source": [
    "## Discrete periodic convolutions"
   ]
  },
  {
   "cell_type": "markdown",
   "metadata": {},
   "source": [
    "We will define the discrete convolution $y = k * x$, with a kernel of size P, centered on index $d$, and acting on data of size N, in index notation as\n",
    "\n",
    "$$\n",
    "y_i = \\sum_{p=0}^{P-1} k_{p} x_{(i+p-d) (\\mathrm{mod} N)}\n",
    "$$\n",
    "\n",
    "where the indeces are taken to be modulo N via the underlying periodicity."
   ]
  },
  {
   "cell_type": "markdown",
   "metadata": {},
   "source": [
    "This can be rewritten as a matrix multiplication $y = K \\cdot x$, or \n",
    "\n",
    "$$y_i = \\sum_{j=0}^{N-1} K_{ij} x_j$$\n",
    "\n",
    "where $K_{ij} = k_{(j-i+d) (\\mathrm{mod} N)}$ and $k_p = 0$ for $p \\ge P$."
   ]
  },
  {
   "cell_type": "markdown",
   "metadata": {},
   "source": [
    "Let's look at a quick numerical example:"
   ]
  },
  {
   "cell_type": "code",
   "execution_count": 3,
   "metadata": {},
   "outputs": [
    {
     "name": "stdout",
     "output_type": "stream",
     "text": [
      "Kernel: [1 2 3]\n",
      "K matrix:\n",
      "[[2 3 0 0 0 0 0 0 0 0 0 0 0 0 0 1]\n",
      " [1 2 3 0 0 0 0 0 0 0 0 0 0 0 0 0]\n",
      " [0 1 2 3 0 0 0 0 0 0 0 0 0 0 0 0]\n",
      " [0 0 1 2 3 0 0 0 0 0 0 0 0 0 0 0]\n",
      " [0 0 0 1 2 3 0 0 0 0 0 0 0 0 0 0]\n",
      " [0 0 0 0 1 2 3 0 0 0 0 0 0 0 0 0]\n",
      " [0 0 0 0 0 1 2 3 0 0 0 0 0 0 0 0]\n",
      " [0 0 0 0 0 0 1 2 3 0 0 0 0 0 0 0]\n",
      " [0 0 0 0 0 0 0 1 2 3 0 0 0 0 0 0]\n",
      " [0 0 0 0 0 0 0 0 1 2 3 0 0 0 0 0]\n",
      " [0 0 0 0 0 0 0 0 0 1 2 3 0 0 0 0]\n",
      " [0 0 0 0 0 0 0 0 0 0 1 2 3 0 0 0]\n",
      " [0 0 0 0 0 0 0 0 0 0 0 1 2 3 0 0]\n",
      " [0 0 0 0 0 0 0 0 0 0 0 0 1 2 3 0]\n",
      " [0 0 0 0 0 0 0 0 0 0 0 0 0 1 2 3]\n",
      " [3 0 0 0 0 0 0 0 0 0 0 0 0 0 1 2]]\n"
     ]
    }
   ],
   "source": [
    "# Set sizes and build simple kernel\n",
    "N = 16\n",
    "P = 3\n",
    "d = 1\n",
    "k = np.arange(1, P+1)\n",
    "print('Kernel:', k)\n",
    "\n",
    "# Build K matrix (slow algorithm)\n",
    "K = np.zeros((N, N), dtype=int)\n",
    "for i in range(N):\n",
    "    for j in range(N):\n",
    "        p = (j - i + d) % N\n",
    "        if p < P:\n",
    "            K[i, j] = k[p]\n",
    "            \n",
    "print('K matrix:')\n",
    "print(K)"
   ]
  },
  {
   "cell_type": "markdown",
   "metadata": {},
   "source": [
    "## Padding to achieve periodicity"
   ]
  },
  {
   "cell_type": "markdown",
   "metadata": {},
   "source": [
    "Since the tensorflow convolutions do not implement the periodic wrapping we need (i.e. indexing in modular arithmetic), we'll implement the same via periodically padding our input to size $N + P - 1$.\n",
    "\n",
    "We'll represent the padding operator as the linear operator $z = e(x, P-1)$, which in index notation is simply $\n",
    "z_i = x_{(i-d) (mod N)}$.\n",
    "This can again be rewritten as a matrix multiplication $z = E \\cdot x$ where $E$ is a a matrix with shape $(N+P-1, N)$ and $E_{ij} = \\delta_{(i-d) (\\mathrm{mod} N), j}$."
   ]
  },
  {
   "cell_type": "markdown",
   "metadata": {},
   "source": [
    "Let's take a look at a numerical example:"
   ]
  },
  {
   "cell_type": "code",
   "execution_count": 4,
   "metadata": {
    "scrolled": false
   },
   "outputs": [
    {
     "name": "stdout",
     "output_type": "stream",
     "text": [
      "E matrix:\n",
      "[[0 0 0 0 0 0 0 0 0 0 0 0 0 0 0 1]\n",
      " [1 0 0 0 0 0 0 0 0 0 0 0 0 0 0 0]\n",
      " [0 1 0 0 0 0 0 0 0 0 0 0 0 0 0 0]\n",
      " [0 0 1 0 0 0 0 0 0 0 0 0 0 0 0 0]\n",
      " [0 0 0 1 0 0 0 0 0 0 0 0 0 0 0 0]\n",
      " [0 0 0 0 1 0 0 0 0 0 0 0 0 0 0 0]\n",
      " [0 0 0 0 0 1 0 0 0 0 0 0 0 0 0 0]\n",
      " [0 0 0 0 0 0 1 0 0 0 0 0 0 0 0 0]\n",
      " [0 0 0 0 0 0 0 1 0 0 0 0 0 0 0 0]\n",
      " [0 0 0 0 0 0 0 0 1 0 0 0 0 0 0 0]\n",
      " [0 0 0 0 0 0 0 0 0 1 0 0 0 0 0 0]\n",
      " [0 0 0 0 0 0 0 0 0 0 1 0 0 0 0 0]\n",
      " [0 0 0 0 0 0 0 0 0 0 0 1 0 0 0 0]\n",
      " [0 0 0 0 0 0 0 0 0 0 0 0 1 0 0 0]\n",
      " [0 0 0 0 0 0 0 0 0 0 0 0 0 1 0 0]\n",
      " [0 0 0 0 0 0 0 0 0 0 0 0 0 0 1 0]\n",
      " [0 0 0 0 0 0 0 0 0 0 0 0 0 0 0 1]\n",
      " [1 0 0 0 0 0 0 0 0 0 0 0 0 0 0 0]]\n",
      "x: \n",
      "  [ 0  1  2  3  4  5  6  7  8  9 10 11 12 13 14 15]\n",
      "z = G @ x: \n",
      "  [15  0  1  2  3  4  5  6  7  8  9 10 11 12 13 14 15  0]\n"
     ]
    }
   ],
   "source": [
    "# Build extension matrix (slow algorithm)\n",
    "E = np.zeros((N+P-1, N), dtype=int)\n",
    "for i in range(N+P-1):\n",
    "    for j in range(N):\n",
    "        if (i-d) % N == j:\n",
    "            E[i, j] = 1\n",
    "            \n",
    "print('E matrix:')\n",
    "print(E)\n",
    "\n",
    "# Apple to an example\n",
    "x = np.arange(N)\n",
    "print('x: \\n ', x)\n",
    "z = E @ x\n",
    "print('z = G @ x: \\n ', z)"
   ]
  },
  {
   "cell_type": "markdown",
   "metadata": {},
   "source": [
    "We can now write a new convolution matrix which acts with \"valid\" padding on $z$ as $y = G \\cdot z$ where $G$ has shape $(N, N+P-1)$ and $G_{ij} = k_{j-i}$.\n",
    "\n",
    "We can verify the correctness of this formulion analytically:\n",
    "$$\n",
    "\\begin{align}\n",
    "y_i &= \\sum_{j=0}^{N+P-2} G_{ij} z_j \\\\\n",
    "&= \\sum_{j=0}^{N+P-2} k_{j-i} x_{(j-d) (\\mathrm{mod} N)} \\\\\n",
    "&= \\sum_{p=-i}^{N+P-2-i} k_{p} x_{(i+p-d) (\\mathrm{mod} N)} \\\\\n",
    "&= \\sum_{p=0}^{P-1} k_{p} x_{(i+p-d) (\\mathrm{mod} N)} \\\\\n",
    "\\end{align}\n",
    "$$"
   ]
  },
  {
   "cell_type": "markdown",
   "metadata": {},
   "source": [
    "Let's check numerically:"
   ]
  },
  {
   "cell_type": "code",
   "execution_count": 5,
   "metadata": {},
   "outputs": [
    {
     "name": "stdout",
     "output_type": "stream",
     "text": [
      "G matrix:\n",
      "[[1 2 3 0 0 0 0 0 0 0 0 0 0 0 0 0 0 0]\n",
      " [0 1 2 3 0 0 0 0 0 0 0 0 0 0 0 0 0 0]\n",
      " [0 0 1 2 3 0 0 0 0 0 0 0 0 0 0 0 0 0]\n",
      " [0 0 0 1 2 3 0 0 0 0 0 0 0 0 0 0 0 0]\n",
      " [0 0 0 0 1 2 3 0 0 0 0 0 0 0 0 0 0 0]\n",
      " [0 0 0 0 0 1 2 3 0 0 0 0 0 0 0 0 0 0]\n",
      " [0 0 0 0 0 0 1 2 3 0 0 0 0 0 0 0 0 0]\n",
      " [0 0 0 0 0 0 0 1 2 3 0 0 0 0 0 0 0 0]\n",
      " [0 0 0 0 0 0 0 0 1 2 3 0 0 0 0 0 0 0]\n",
      " [0 0 0 0 0 0 0 0 0 1 2 3 0 0 0 0 0 0]\n",
      " [0 0 0 0 0 0 0 0 0 0 1 2 3 0 0 0 0 0]\n",
      " [0 0 0 0 0 0 0 0 0 0 0 1 2 3 0 0 0 0]\n",
      " [0 0 0 0 0 0 0 0 0 0 0 0 1 2 3 0 0 0]\n",
      " [0 0 0 0 0 0 0 0 0 0 0 0 0 1 2 3 0 0]\n",
      " [0 0 0 0 0 0 0 0 0 0 0 0 0 0 1 2 3 0]\n",
      " [0 0 0 0 0 0 0 0 0 0 0 0 0 0 0 1 2 3]]\n",
      "y = K @ x: \n",
      "  [18  8 14 20 26 32 38 44 50 56 62 68 74 80 86 44]\n",
      "y = G @ E @ x: \n",
      "  [18  8 14 20 26 32 38 44 50 56 62 68 74 80 86 44]\n",
      "  Same: True\n"
     ]
    }
   ],
   "source": [
    "# Build extended convolution matrix (slow algorithm)\n",
    "G = np.zeros((N, N+P-1), dtype=int)\n",
    "for i in range(N):\n",
    "    for j in range(N+P-1):\n",
    "        p = j - i\n",
    "        if 0 <= p < P:\n",
    "            G[i, j] = k[p]\n",
    "            \n",
    "print('G matrix:')\n",
    "print(G)\n",
    "\n",
    "# Test reformulation\n",
    "y0 = K @ x\n",
    "print('y = K @ x: \\n ', y0)\n",
    "y1 = G @ z\n",
    "print('y = G @ E @ x: \\n ', y1)\n",
    "print('  Same:', np.allclose(y0, y1))"
   ]
  },
  {
   "cell_type": "markdown",
   "metadata": {},
   "source": [
    "Now let's give it a try in tensorflow:"
   ]
  },
  {
   "cell_type": "code",
   "execution_count": 6,
   "metadata": {},
   "outputs": [
    {
     "name": "stdout",
     "output_type": "stream",
     "text": [
      "y = (tf conv): \n",
      "  [18.  8. 14. 20. 26. 32. 38. 44. 50. 56. 62. 68. 74. 80. 86. 44.]\n",
      "  Same: True\n"
     ]
    }
   ],
   "source": [
    "# Reshape input as (batch, *size, channels)\n",
    "z_tens = tf.convert_to_tensor(z[None, None, :, None].astype(float))\n",
    "# Reshape kernel as (*size, channels, features)\n",
    "k_tens = tf.convert_to_tensor(k[None, :, None, None].astype(float))\n",
    "\n",
    "y2_tens = keras.backend.conv2d(z_tens, k_tens, padding='valid')\n",
    "y2 = y2_tens.numpy().flatten()\n",
    "\n",
    "print('y = (tf conv): \\n ', y2)\n",
    "print('  Same:', np.allclose(y0, y2))"
   ]
  },
  {
   "cell_type": "markdown",
   "metadata": {},
   "source": [
    "## Downsampling convolutions"
   ]
  },
  {
   "cell_type": "markdown",
   "metadata": {},
   "source": [
    "Downsampling via striding is equivalent to simply striding the output, or striding the rows of $K$ or $G$, which we can write as $S \\cdot K = S \\cdot G \\cdot E$.\n",
    "The tensorflow convolutions should do the same, even when acting on the padded inputs, since they've been padded just enough to properly convolve the original input.\n",
    "\n",
    "Let's check this numerically:"
   ]
  },
  {
   "cell_type": "code",
   "execution_count": 7,
   "metadata": {},
   "outputs": [
    {
     "name": "stdout",
     "output_type": "stream",
     "text": [
      "y = (strided tf conv): \n",
      "  [18. 14. 26. 38. 50. 62. 74. 86.]\n",
      "  Same: True\n"
     ]
    }
   ],
   "source": [
    "# Set stride size\n",
    "s = 2\n",
    "\n",
    "# Run strided convolution\n",
    "y3_tens = keras.backend.conv2d(z_tens, k_tens, padding='valid', strides=(1,s))\n",
    "y3 = y3_tens.numpy().flatten()\n",
    "\n",
    "print('y = (strided tf conv): \\n ', y3)\n",
    "print('  Same:', np.allclose(y0[::s], y3))"
   ]
  },
  {
   "cell_type": "markdown",
   "metadata": {},
   "source": [
    "## Upsampling convolutions"
   ]
  },
  {
   "cell_type": "markdown",
   "metadata": {},
   "source": [
    "Upsampling via striding is equivalent to transposing the strided $K$, i.e. $(S \\cdot K)^T = E^T \\cdot (S \\cdot G)^T$.\n",
    "The second operator $(S \\cdot G)^T$ is implemented via the strided transpose convolutions in tensorflow, so we can produce the full convolution by applying $E.T$ to the output of this layer.\n",
    "\n",
    "Let's check this numerically:"
   ]
  },
  {
   "cell_type": "code",
   "execution_count": 8,
   "metadata": {},
   "outputs": [
    {
     "name": "stdout",
     "output_type": "stream",
     "text": [
      "x = K[::s].T @ y: \n",
      "  [ 0  1  2  5  4  9  6 13  8 17 10 21 12 25 14 21]\n",
      "x = E.T @ G[::s].T @ y: \n",
      "  [ 0  1  2  5  4  9  6 13  8 17 10 21 12 25 14 21]\n",
      "  Same: True\n",
      "x = E.T @ (tf conv trans): \n",
      "  [ 0.  1.  2.  5.  4.  9.  6. 13.  8. 17. 10. 21. 12. 25. 14. 21.]\n",
      "  Same: True\n"
     ]
    }
   ],
   "source": [
    "# Set stride size\n",
    "s = 2\n",
    "\n",
    "# Produce input data\n",
    "M = (N + s - 1) // s\n",
    "y = np.arange(M)\n",
    "\n",
    "# Direct up-convolutions\n",
    "x0 = K[::s].T @ y\n",
    "print('x = K[::s].T @ y: \\n ', x0)\n",
    "x1 = E.T @ G[::s].T @ y\n",
    "print('x = E.T @ G[::s].T @ y: \\n ', x1)\n",
    "print('  Same:', np.allclose(x0, x1))\n",
    "\n",
    "# Reshape input as (batch, *size, channels)\n",
    "y_tens = tf.convert_to_tensor(y[None, None, :, None].astype(float))\n",
    "\n",
    "# Run strided up-convolution\n",
    "output_shape = (z_tens.shape)\n",
    "x2_tens = keras.backend.conv2d_transpose(y_tens, k_tens, output_shape, padding='valid', strides=(1,s))\n",
    "x2 = E.T @ x2_tens.numpy().flatten()\n",
    "\n",
    "print('x = E.T @ (tf conv trans): \\n ', x2)\n",
    "print('  Same:', np.allclose(x0, x2))"
   ]
  },
  {
   "cell_type": "markdown",
   "metadata": {},
   "source": [
    "## Conclusions\n",
    "\n",
    "We have seen that we simply need to have implementations of the forward and transposed padding/extension operators $E$ and $E^T$ to produce periodic convolutions with tensorflow.\n",
    "These two operators need to be fast and differentiable to be usable in production."
   ]
  },
  {
   "cell_type": "markdown",
   "metadata": {},
   "source": [
    "## Custom implementations"
   ]
  },
  {
   "cell_type": "markdown",
   "metadata": {},
   "source": [
    "Now let's also check our custom tensorflow implementations for correctness."
   ]
  },
  {
   "cell_type": "code",
   "execution_count": 12,
   "metadata": {},
   "outputs": [],
   "source": [
    "import unet"
   ]
  },
  {
   "cell_type": "code",
   "execution_count": 13,
   "metadata": {
    "scrolled": false
   },
   "outputs": [
    {
     "name": "stdout",
     "output_type": "stream",
     "text": [
      "y = (tf conv): \n",
      "  [18.  8. 14. 20. 26. 32. 38. 44. 50. 56. 62. 68. 74. 80. 86. 44.]\n",
      "  Same: True\n"
     ]
    }
   ],
   "source": [
    "# Reshape input as (batch, *size, channels)\n",
    "z_tens = tf.convert_to_tensor(z[None, None, :, None].astype(float))\n",
    "# Reshape kernel as (*size, channels, features)\n",
    "k_tens = tf.convert_to_tensor(k[None, :, None, None].astype(float))\n",
    "\n",
    "#inputs = keras.layers.Input((1, N+P-1, 1), dtype=np.float64)\n",
    "conv = keras.layers.Conv2D(1, (1, P), padding='valid', input_shape=(1, N+P-1, 1), dtype=np.float64)\n",
    "#model = keras.models.Model(inputs, conv(inputs))\n",
    "model = keras.models.Sequential()\n",
    "model.add(conv)\n",
    "conv.set_weights([k_tens, np.array([0])])\n",
    "y4 = model(z_tens).numpy().flatten()\n",
    "\n",
    "print('y = (tf conv): \\n ', y4)\n",
    "print('  Same:', np.allclose(y0, y4))"
   ]
  },
  {
   "cell_type": "code",
   "execution_count": 14,
   "metadata": {},
   "outputs": [
    {
     "ename": "AttributeError",
     "evalue": "'PeriodicConv3D' object has no attribute 'trainable'",
     "output_type": "error",
     "traceback": [
      "\u001b[0;31m---------------------------------------------------------------------------\u001b[0m",
      "\u001b[0;31mAttributeError\u001b[0m                            Traceback (most recent call last)",
      "\u001b[0;32m<ipython-input-14-659a840a14b0>\u001b[0m in \u001b[0;36m<module>\u001b[0;34m\u001b[0m\n\u001b[1;32m      9\u001b[0m \u001b[0mmodel\u001b[0m\u001b[0;34m.\u001b[0m\u001b[0madd\u001b[0m\u001b[0;34m(\u001b[0m\u001b[0mconv\u001b[0m\u001b[0;34m)\u001b[0m\u001b[0;34m\u001b[0m\u001b[0;34m\u001b[0m\u001b[0m\n\u001b[1;32m     10\u001b[0m \u001b[0;31m#model = keras.models.Model(inputs, conv(inputs))\u001b[0m\u001b[0;34m\u001b[0m\u001b[0;34m\u001b[0m\u001b[0;34m\u001b[0m\u001b[0m\n\u001b[0;32m---> 11\u001b[0;31m \u001b[0mconv\u001b[0m\u001b[0;34m.\u001b[0m\u001b[0mset_weights\u001b[0m\u001b[0;34m(\u001b[0m\u001b[0;34m[\u001b[0m\u001b[0mk_tens\u001b[0m\u001b[0;34m,\u001b[0m \u001b[0mnp\u001b[0m\u001b[0;34m.\u001b[0m\u001b[0marray\u001b[0m\u001b[0;34m(\u001b[0m\u001b[0;34m[\u001b[0m\u001b[0;36m0\u001b[0m\u001b[0;34m]\u001b[0m\u001b[0;34m)\u001b[0m\u001b[0;34m]\u001b[0m\u001b[0;34m)\u001b[0m\u001b[0;34m\u001b[0m\u001b[0;34m\u001b[0m\u001b[0m\n\u001b[0m\u001b[1;32m     12\u001b[0m \u001b[0;31m# y4 = model(z_tens).numpy().flatten()\u001b[0m\u001b[0;34m\u001b[0m\u001b[0;34m\u001b[0m\u001b[0;34m\u001b[0m\u001b[0m\n\u001b[1;32m     13\u001b[0m \u001b[0;34m\u001b[0m\u001b[0m\n",
      "\u001b[0;32m~/Software/miniconda3/envs/p3/lib/python3.6/site-packages/tensorflow/python/keras/engine/base_layer.py\u001b[0m in \u001b[0;36mset_weights\u001b[0;34m(self, weights)\u001b[0m\n\u001b[1;32m   1485\u001b[0m             \u001b[0mlayer\u001b[0m\u001b[0;31m'\u001b[0m\u001b[0ms\u001b[0m \u001b[0mspecifications\u001b[0m\u001b[0;34m.\u001b[0m\u001b[0;34m\u001b[0m\u001b[0;34m\u001b[0m\u001b[0m\n\u001b[1;32m   1486\u001b[0m     \"\"\"\n\u001b[0;32m-> 1487\u001b[0;31m     \u001b[0mparams\u001b[0m \u001b[0;34m=\u001b[0m \u001b[0mself\u001b[0m\u001b[0;34m.\u001b[0m\u001b[0mweights\u001b[0m\u001b[0;34m\u001b[0m\u001b[0;34m\u001b[0m\u001b[0m\n\u001b[0m\u001b[1;32m   1488\u001b[0m     \u001b[0;32mif\u001b[0m \u001b[0mlen\u001b[0m\u001b[0;34m(\u001b[0m\u001b[0mparams\u001b[0m\u001b[0;34m)\u001b[0m \u001b[0;34m!=\u001b[0m \u001b[0mlen\u001b[0m\u001b[0;34m(\u001b[0m\u001b[0mweights\u001b[0m\u001b[0;34m)\u001b[0m\u001b[0;34m:\u001b[0m\u001b[0;34m\u001b[0m\u001b[0;34m\u001b[0m\u001b[0m\n\u001b[1;32m   1489\u001b[0m       raise ValueError('You called `set_weights(weights)` on layer \"' +\n",
      "\u001b[0;32m~/Software/miniconda3/envs/p3/lib/python3.6/site-packages/tensorflow/python/keras/engine/base_layer.py\u001b[0m in \u001b[0;36mweights\u001b[0;34m(self)\u001b[0m\n\u001b[1;32m    247\u001b[0m       \u001b[0mA\u001b[0m \u001b[0mlist\u001b[0m \u001b[0mof\u001b[0m \u001b[0mvariables\u001b[0m\u001b[0;34m.\u001b[0m\u001b[0;34m\u001b[0m\u001b[0;34m\u001b[0m\u001b[0m\n\u001b[1;32m    248\u001b[0m     \"\"\"\n\u001b[0;32m--> 249\u001b[0;31m     \u001b[0;32mreturn\u001b[0m \u001b[0mself\u001b[0m\u001b[0;34m.\u001b[0m\u001b[0mtrainable_weights\u001b[0m \u001b[0;34m+\u001b[0m \u001b[0mself\u001b[0m\u001b[0;34m.\u001b[0m\u001b[0mnon_trainable_weights\u001b[0m\u001b[0;34m\u001b[0m\u001b[0;34m\u001b[0m\u001b[0m\n\u001b[0m\u001b[1;32m    250\u001b[0m \u001b[0;34m\u001b[0m\u001b[0m\n\u001b[1;32m    251\u001b[0m   \u001b[0;34m@\u001b[0m\u001b[0mproperty\u001b[0m\u001b[0;34m\u001b[0m\u001b[0;34m\u001b[0m\u001b[0m\n",
      "\u001b[0;32m~/Software/miniconda3/envs/p3/lib/python3.6/site-packages/tensorflow/python/keras/engine/base_layer.py\u001b[0m in \u001b[0;36mtrainable_weights\u001b[0;34m(self)\u001b[0m\n\u001b[1;32m    223\u001b[0m   \u001b[0;34m@\u001b[0m\u001b[0mproperty\u001b[0m\u001b[0;34m\u001b[0m\u001b[0;34m\u001b[0m\u001b[0m\n\u001b[1;32m    224\u001b[0m   \u001b[0;32mdef\u001b[0m \u001b[0mtrainable_weights\u001b[0m\u001b[0;34m(\u001b[0m\u001b[0mself\u001b[0m\u001b[0;34m)\u001b[0m\u001b[0;34m:\u001b[0m\u001b[0;34m\u001b[0m\u001b[0;34m\u001b[0m\u001b[0m\n\u001b[0;32m--> 225\u001b[0;31m     \u001b[0;32mreturn\u001b[0m \u001b[0mself\u001b[0m\u001b[0;34m.\u001b[0m\u001b[0m_trainable_weights\u001b[0m \u001b[0;32mif\u001b[0m \u001b[0mself\u001b[0m\u001b[0;34m.\u001b[0m\u001b[0mtrainable\u001b[0m \u001b[0;32melse\u001b[0m \u001b[0;34m[\u001b[0m\u001b[0;34m]\u001b[0m\u001b[0;34m\u001b[0m\u001b[0;34m\u001b[0m\u001b[0m\n\u001b[0m\u001b[1;32m    226\u001b[0m \u001b[0;34m\u001b[0m\u001b[0m\n\u001b[1;32m    227\u001b[0m   \u001b[0;34m@\u001b[0m\u001b[0mproperty\u001b[0m\u001b[0;34m\u001b[0m\u001b[0;34m\u001b[0m\u001b[0m\n",
      "\u001b[0;31mAttributeError\u001b[0m: 'PeriodicConv3D' object has no attribute 'trainable'"
     ]
    }
   ],
   "source": [
    "# Reshape input as (batch, *size, channels)\n",
    "x_tens = tf.convert_to_tensor(x[None, None, None, :, None].astype(float))\n",
    "# Reshape kernel as (*size, channels, features)\n",
    "k_tens = tf.convert_to_tensor(k[None, None, :, None, None].astype(float))\n",
    "\n",
    "#inputs = keras.layers.Input((1, 1, N, 1), dtype=np.float64)\n",
    "conv = unet.PeriodicConv3D(1, (1, 1, P), (0, 0, d), weights=[k_tens, np.array([0])], dtype=np.float64)\n",
    "model = keras.models.Sequential()\n",
    "model.add(conv)\n",
    "#model = keras.models.Model(inputs, conv(inputs))\n",
    "conv.set_weights([k_tens, np.array([0])])\n",
    "# y4 = model(z_tens).numpy().flatten()\n",
    "\n",
    "# print('y = (tf conv): \\n ', y4)\n",
    "# print('  Same:', np.allclose(y0, y4))"
   ]
  },
  {
   "cell_type": "code",
   "execution_count": null,
   "metadata": {},
   "outputs": [],
   "source": []
  }
 ],
 "metadata": {
  "kernelspec": {
   "display_name": "Python 3",
   "language": "python",
   "name": "python3"
  },
  "language_info": {
   "codemirror_mode": {
    "name": "ipython",
    "version": 3
   },
   "file_extension": ".py",
   "mimetype": "text/x-python",
   "name": "python",
   "nbconvert_exporter": "python",
   "pygments_lexer": "ipython3",
   "version": "3.6.7"
  }
 },
 "nbformat": 4,
 "nbformat_minor": 2
}
