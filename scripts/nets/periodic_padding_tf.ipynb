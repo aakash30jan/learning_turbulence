{
 "cells": [
  {
   "cell_type": "code",
   "execution_count": 1,
   "metadata": {},
   "outputs": [],
   "source": [
    "import tensorflow as tf\n",
    "import numpy as np\n",
    "tf.enable_eager_execution()"
   ]
  },
  {
   "cell_type": "code",
   "execution_count": null,
   "metadata": {},
   "outputs": [],
   "source": []
  },
  {
   "cell_type": "code",
   "execution_count": 12,
   "metadata": {},
   "outputs": [],
   "source": [
    "init = tf.constant_initializer(1.0)\n",
    "\n",
    "class periodic_conv2dmodel(tf.keras.Model):\n",
    "    def __init__(self):\n",
    "        super(periodic_conv2dmodel, self).__init__()\n",
    "\n",
    "        # decide how to pad vertically\n",
    "        self.vert = tf.constant([[0., 0., 1.], [1., 0., 0.], [0., 1., 0.], [0., 0., 1.], [1., 0., 0.]])\n",
    "        # decide how to pad horizontally\n",
    "        self.horiz = tf.transpose(self.vert)\n",
    "\n",
    "        self.Con2DLayer = tf.keras.layers.Conv2D(1, (1, 1), activation='linear', padding='same',kernel_initializer=init) \n",
    "        \n",
    "    def call(self, X):\n",
    "        # get the 2D input matrix and pad it\n",
    "        periodically_padded = tf.matmul(tf.matmul(self.vert, X), self.horiz)\n",
    "        \n",
    "        # reshape it to a 4D array\n",
    "        periodically_padded = tf.reshape(periodically_padded , (1,5,5,1) )\n",
    "        \n",
    "        # perform a 2D convolution\n",
    "        output = self.Con2DLayer (periodically_padded)\n",
    "\n",
    "        return output"
   ]
  },
  {
   "cell_type": "code",
   "execution_count": 13,
   "metadata": {},
   "outputs": [],
   "source": [
    "model = periodic_conv2dmodel()"
   ]
  },
  {
   "cell_type": "code",
   "execution_count": 14,
   "metadata": {},
   "outputs": [
    {
     "name": "stdout",
     "output_type": "stream",
     "text": [
      "tf.Tensor(\n",
      "[[1. 2. 3.]\n",
      " [4. 5. 6.]\n",
      " [7. 8. 9.]], shape=(3, 3), dtype=float32)\n"
     ]
    }
   ],
   "source": [
    "feature_map = tf.constant([[1.,2.,3.],[4.,5.,6.],[7.,8.,9.]]) \n",
    "print feature_map"
   ]
  },
  {
   "cell_type": "code",
   "execution_count": null,
   "metadata": {},
   "outputs": [],
   "source": []
  },
  {
   "cell_type": "code",
   "execution_count": 15,
   "metadata": {
    "scrolled": false
   },
   "outputs": [
    {
     "name": "stdout",
     "output_type": "stream",
     "text": [
      "[[9. 7. 8. 9. 7.]\n",
      " [3. 1. 2. 3. 1.]\n",
      " [6. 4. 5. 6. 4.]\n",
      " [9. 7. 8. 9. 7.]\n",
      " [3. 1. 2. 3. 1.]]\n"
     ]
    }
   ],
   "source": [
    "print model(feature_map).numpy().reshape(5,5)"
   ]
  },
  {
   "cell_type": "code",
   "execution_count": null,
   "metadata": {},
   "outputs": [],
   "source": []
  },
  {
   "cell_type": "code",
   "execution_count": null,
   "metadata": {},
   "outputs": [],
   "source": []
  }
 ],
 "metadata": {
  "kernelspec": {
   "display_name": "Python 2",
   "language": "python",
   "name": "python2"
  },
  "language_info": {
   "codemirror_mode": {
    "name": "ipython",
    "version": 2
   },
   "file_extension": ".py",
   "mimetype": "text/x-python",
   "name": "python",
   "nbconvert_exporter": "python",
   "pygments_lexer": "ipython2",
   "version": "2.7.15"
  }
 },
 "nbformat": 4,
 "nbformat_minor": 2
}
